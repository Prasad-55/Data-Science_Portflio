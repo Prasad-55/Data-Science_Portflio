{
 "cells": [
  {
   "cell_type": "code",
   "execution_count": 58,
   "metadata": {},
   "outputs": [],
   "source": [
    "import pandas as pd\n",
    "from sklearn.model_selection import train_test_split\n",
    "from tensorflow.keras.preprocessing.text import Tokenizer\n",
    "from tensorflow.keras.preprocessing.sequence import pad_sequences\n",
    "from tensorflow.keras.models import Sequential\n",
    "from tensorflow.keras.layers import Embedding, SpatialDropout1D, LSTM, Dense\n",
    "from tensorflow.keras.callbacks import EarlyStopping"
   ]
  },
  {
   "cell_type": "code",
   "execution_count": 59,
   "metadata": {},
   "outputs": [],
   "source": [
    "data = pd.read_csv(\"twitter_training.csv\", header=None)"
   ]
  },
  {
   "cell_type": "code",
   "execution_count": 60,
   "metadata": {},
   "outputs": [
    {
     "data": {
      "text/html": [
       "<div>\n",
       "<style scoped>\n",
       "    .dataframe tbody tr th:only-of-type {\n",
       "        vertical-align: middle;\n",
       "    }\n",
       "\n",
       "    .dataframe tbody tr th {\n",
       "        vertical-align: top;\n",
       "    }\n",
       "\n",
       "    .dataframe thead th {\n",
       "        text-align: right;\n",
       "    }\n",
       "</style>\n",
       "<table border=\"1\" class=\"dataframe\">\n",
       "  <thead>\n",
       "    <tr style=\"text-align: right;\">\n",
       "      <th></th>\n",
       "      <th>0</th>\n",
       "      <th>1</th>\n",
       "      <th>2</th>\n",
       "      <th>3</th>\n",
       "    </tr>\n",
       "  </thead>\n",
       "  <tbody>\n",
       "    <tr>\n",
       "      <th>0</th>\n",
       "      <td>2401</td>\n",
       "      <td>Borderlands</td>\n",
       "      <td>Positive</td>\n",
       "      <td>im getting on borderlands and i will murder yo...</td>\n",
       "    </tr>\n",
       "    <tr>\n",
       "      <th>1</th>\n",
       "      <td>2401</td>\n",
       "      <td>Borderlands</td>\n",
       "      <td>Positive</td>\n",
       "      <td>I am coming to the borders and I will kill you...</td>\n",
       "    </tr>\n",
       "    <tr>\n",
       "      <th>2</th>\n",
       "      <td>2401</td>\n",
       "      <td>Borderlands</td>\n",
       "      <td>Positive</td>\n",
       "      <td>im getting on borderlands and i will kill you ...</td>\n",
       "    </tr>\n",
       "    <tr>\n",
       "      <th>3</th>\n",
       "      <td>2401</td>\n",
       "      <td>Borderlands</td>\n",
       "      <td>Positive</td>\n",
       "      <td>im coming on borderlands and i will murder you...</td>\n",
       "    </tr>\n",
       "    <tr>\n",
       "      <th>4</th>\n",
       "      <td>2401</td>\n",
       "      <td>Borderlands</td>\n",
       "      <td>Positive</td>\n",
       "      <td>im getting on borderlands 2 and i will murder ...</td>\n",
       "    </tr>\n",
       "  </tbody>\n",
       "</table>\n",
       "</div>"
      ],
      "text/plain": [
       "      0            1         2  \\\n",
       "0  2401  Borderlands  Positive   \n",
       "1  2401  Borderlands  Positive   \n",
       "2  2401  Borderlands  Positive   \n",
       "3  2401  Borderlands  Positive   \n",
       "4  2401  Borderlands  Positive   \n",
       "\n",
       "                                                   3  \n",
       "0  im getting on borderlands and i will murder yo...  \n",
       "1  I am coming to the borders and I will kill you...  \n",
       "2  im getting on borderlands and i will kill you ...  \n",
       "3  im coming on borderlands and i will murder you...  \n",
       "4  im getting on borderlands 2 and i will murder ...  "
      ]
     },
     "execution_count": 60,
     "metadata": {},
     "output_type": "execute_result"
    }
   ],
   "source": [
    "data.head()"
   ]
  },
  {
   "cell_type": "code",
   "execution_count": 61,
   "metadata": {},
   "outputs": [],
   "source": [
    "data.columns = ['candidate', 'region', 'sentiment', 'text']"
   ]
  },
  {
   "cell_type": "code",
   "execution_count": 62,
   "metadata": {},
   "outputs": [
    {
     "data": {
      "text/plain": [
       "candidate      0\n",
       "region         0\n",
       "sentiment      0\n",
       "text         686\n",
       "dtype: int64"
      ]
     },
     "execution_count": 62,
     "metadata": {},
     "output_type": "execute_result"
    }
   ],
   "source": [
    "data.isna().sum()"
   ]
  },
  {
   "cell_type": "code",
   "execution_count": 63,
   "metadata": {},
   "outputs": [],
   "source": [
    "def preprocess_text(text):\n",
    "    \n",
    "    if isinstance(text, str):\n",
    "        text = text.lower()\n",
    "        # Add additional cleaning steps as needed\n",
    "        # Remove punctuation, stop words, etc.\n",
    "    else:\n",
    "        # If the text is NaN, replace it with an empty string or handle as per your requirements\n",
    "        text = ''\n",
    "    return text\n",
    "\n",
    "data['text'] = data['text'].apply(preprocess_text)"
   ]
  },
  {
   "cell_type": "code",
   "execution_count": 64,
   "metadata": {},
   "outputs": [],
   "source": [
    "train_data, val_data = train_test_split(data, test_size=0.2, random_state=42)\n",
    "\n",
    "# Tokenize and pad the text data\n",
    "tokenizer = Tokenizer()\n",
    "tokenizer.fit_on_texts(train_data['text'])\n",
    "MAX_SEQUENCE_LENGTH = 100\n",
    "\n",
    "X_train = pad_sequences(tokenizer.texts_to_sequences(train_data['text']), maxlen=MAX_SEQUENCE_LENGTH)\n",
    "X_val = pad_sequences(tokenizer.texts_to_sequences(val_data['text']), maxlen=MAX_SEQUENCE_LENGTH)\n",
    "\n",
    "# Map sentiment labels to numerical values\n",
    "sentiment_mapping = {'Positive': 0, 'Neutral': 1, 'Negative': 2, 'Irrelevant':3}\n",
    "train_labels = train_data['sentiment'].map(sentiment_mapping)\n",
    "val_labels = val_data['sentiment'].map(sentiment_mapping)"
   ]
  },
  {
   "cell_type": "code",
   "execution_count": 65,
   "metadata": {},
   "outputs": [
    {
     "data": {
      "text/plain": [
       "array(['Positive', 'Neutral', 'Negative', 'Irrelevant'], dtype=object)"
      ]
     },
     "execution_count": 65,
     "metadata": {},
     "output_type": "execute_result"
    }
   ],
   "source": [
    "data['sentiment'].unique()"
   ]
  },
  {
   "cell_type": "code",
   "execution_count": 66,
   "metadata": {},
   "outputs": [
    {
     "name": "stdout",
     "output_type": "stream",
     "text": [
      "Model: \"sequential_4\"\n",
      "_________________________________________________________________\n",
      " Layer (type)                Output Shape              Param #   \n",
      "=================================================================\n",
      " embedding_3 (Embedding)     (None, 100, 50)           1612200   \n",
      "                                                                 \n",
      " spatial_dropout1d_3 (Spati  (None, 100, 50)           0         \n",
      " alDropout1D)                                                    \n",
      "                                                                 \n",
      " lstm_3 (LSTM)               (None, 100)               60400     \n",
      "                                                                 \n",
      " dense_3 (Dense)             (None, 3)                 303       \n",
      "                                                                 \n",
      "=================================================================\n",
      "Total params: 1672903 (6.38 MB)\n",
      "Trainable params: 1672903 (6.38 MB)\n",
      "Non-trainable params: 0 (0.00 Byte)\n",
      "_________________________________________________________________\n"
     ]
    }
   ],
   "source": [
    "# Define the deep learning model\n",
    "EMBEDDING_DIM = 50\n",
    "model = Sequential()\n",
    "model.add(Embedding(input_dim=len(tokenizer.word_index) + 1, output_dim=EMBEDDING_DIM, input_length=MAX_SEQUENCE_LENGTH))\n",
    "model.add(SpatialDropout1D(0.2))\n",
    "model.add(LSTM(100))\n",
    "model.add(Dense(3, activation='softmax'))\n",
    "\n",
    "# Compile the model\n",
    "model.compile(loss='categorical_crossentropy', optimizer='adam', metrics=['accuracy'])\n",
    "\n",
    "# Display the model summary\n",
    "model.summary()\n"
   ]
  },
  {
   "cell_type": "code",
   "execution_count": 68,
   "metadata": {},
   "outputs": [
    {
     "name": "stdout",
     "output_type": "stream",
     "text": [
      "Epoch 1/10\n",
      "WARNING:tensorflow:From c:\\PRASAD wORKS\\Python Works\\myenv\\Lib\\site-packages\\keras\\src\\utils\\tf_utils.py:492: The name tf.ragged.RaggedTensorValue is deprecated. Please use tf.compat.v1.ragged.RaggedTensorValue instead.\n",
      "\n",
      "WARNING:tensorflow:From c:\\PRASAD wORKS\\Python Works\\myenv\\Lib\\site-packages\\keras\\src\\engine\\base_layer_utils.py:384: The name tf.executing_eagerly_outside_functions is deprecated. Please use tf.compat.v1.executing_eagerly_outside_functions instead.\n",
      "\n",
      "934/934 [==============================] - 53s 54ms/step - loss: 0.9042 - accuracy: 0.6322 - val_loss: 0.5946 - val_accuracy: 0.7780\n",
      "Epoch 2/10\n",
      "934/934 [==============================] - 48s 51ms/step - loss: 0.4120 - accuracy: 0.8483 - val_loss: 0.4288 - val_accuracy: 0.8438\n",
      "Epoch 3/10\n",
      "934/934 [==============================] - 48s 52ms/step - loss: 0.2746 - accuracy: 0.8969 - val_loss: 0.3748 - val_accuracy: 0.8646\n",
      "Epoch 4/10\n",
      "934/934 [==============================] - 46s 50ms/step - loss: 0.2147 - accuracy: 0.9178 - val_loss: 0.3654 - val_accuracy: 0.8718\n",
      "Epoch 5/10\n",
      "934/934 [==============================] - 47s 51ms/step - loss: 0.1798 - accuracy: 0.9302 - val_loss: 0.3706 - val_accuracy: 0.8765\n",
      "Epoch 6/10\n",
      "934/934 [==============================] - 47s 50ms/step - loss: 0.1566 - accuracy: 0.9384 - val_loss: 0.3526 - val_accuracy: 0.8831\n",
      "Epoch 7/10\n",
      "934/934 [==============================] - 47s 51ms/step - loss: 0.1408 - accuracy: 0.9442 - val_loss: 0.3677 - val_accuracy: 0.8820\n",
      "Epoch 8/10\n",
      "934/934 [==============================] - 57s 61ms/step - loss: 0.1295 - accuracy: 0.9480 - val_loss: 0.3736 - val_accuracy: 0.8867\n",
      "Epoch 9/10\n",
      "934/934 [==============================] - 104s 112ms/step - loss: 0.1237 - accuracy: 0.9499 - val_loss: 0.3805 - val_accuracy: 0.8879\n",
      "467/467 [==============================] - 6s 12ms/step - loss: 0.3805 - accuracy: 0.8879\n",
      "Validation Accuracy: 88.79%\n"
     ]
    }
   ],
   "source": [
    "from tensorflow.keras.models import Sequential\n",
    "from tensorflow.keras.layers import Embedding, SpatialDropout1D, LSTM, Dense\n",
    "from tensorflow.keras.callbacks import EarlyStopping\n",
    "from tensorflow.keras.preprocessing.text import Tokenizer\n",
    "from tensorflow.keras.preprocessing.sequence import pad_sequences\n",
    "from tensorflow.keras.utils import to_categorical\n",
    "\n",
    "# Unique sentiment classes in the entire dataset\n",
    "unique_sentiments = data['sentiment'].unique()\n",
    "\n",
    "# Map sentiment labels to numerical values\n",
    "sentiment_mapping = {sentiment: idx for idx, sentiment in enumerate(unique_sentiments)}\n",
    "train_labels = train_data['sentiment'].map(sentiment_mapping).astype(int)\n",
    "val_labels = val_data['sentiment'].map(sentiment_mapping).astype(int)\n",
    "\n",
    "# Convert labels to categorical format\n",
    "from tensorflow.keras.utils import to_categorical\n",
    "num_classes = len(unique_sentiments)\n",
    "\n",
    "train_labels = to_categorical(train_labels, num_classes=num_classes)\n",
    "val_labels = to_categorical(val_labels, num_classes=num_classes)\n",
    "\n",
    "# deep learning model\n",
    "model = Sequential()\n",
    "model.add(Embedding(input_dim=len(tokenizer.word_index) + 1, output_dim=EMBEDDING_DIM, input_length=MAX_SEQUENCE_LENGTH))\n",
    "model.add(SpatialDropout1D(0.2))\n",
    "model.add(LSTM(100))\n",
    "model.add(Dense(num_classes, activation='softmax'))  # Adjust the output layer\n",
    "\n",
    "# Compile the model\n",
    "model.compile(loss='categorical_crossentropy', optimizer='adam', metrics=['accuracy'])\n",
    "\n",
    "# Train the model\n",
    "history = model.fit(X_train, train_labels, epochs=10, batch_size=64,\n",
    "                    validation_data=(X_val, val_labels), callbacks=[EarlyStopping(patience=3)])\n",
    "\n",
    "# Evaluate the model\n",
    "eval_metrics = model.evaluate(X_val, val_labels)\n",
    "print(f\"Validation Accuracy: {eval_metrics[1]*100:.2f}%\")\n"
   ]
  }
 ],
 "metadata": {
  "kernelspec": {
   "display_name": "Python 3",
   "language": "python",
   "name": "python3"
  },
  "language_info": {
   "codemirror_mode": {
    "name": "ipython",
    "version": 3
   },
   "file_extension": ".py",
   "mimetype": "text/x-python",
   "name": "python",
   "nbconvert_exporter": "python",
   "pygments_lexer": "ipython3",
   "version": "3.11.8"
  }
 },
 "nbformat": 4,
 "nbformat_minor": 2
}
